{
 "cells": [
  {
   "cell_type": "code",
   "execution_count": 70,
   "metadata": {},
   "outputs": [],
   "source": [
    "import numpy as np\n",
    "import pandas as pd\n",
    "from sklearn.utils.multiclass import type_of_target\n",
    "from collections import namedtuple"
   ]
  },
  {
   "cell_type": "code",
   "execution_count": 71,
   "metadata": {},
   "outputs": [],
   "source": [
    "\n",
    "def train_nb(X, y):\n",
    "    '''\n",
    "    拉普拉斯修正的朴素贝叶斯分类训练\n",
    "    输入：\n",
    "        X:样本特征\n",
    "        y:样本标签\n",
    "    返回：\n",
    "        p1:好瓜概率\n",
    "        p1_list:正例中，各属性的条件概率，格式为色泽(is_continuous=False, conditional_pro=青绿  0.363636 乌黑  0.454545 浅白  0.181818)\n",
    "        p0_list:负例中，各属性的条件概率\n",
    "    '''\n",
    "    m, n = X.shape\n",
    "    p1 = (len(y[y == '是']) + 1) / (m + 2)  # 拉普拉斯平滑\n",
    "\n",
    "    p1_list = []  # 用于保存正例下各属性的条件概率\n",
    "    p0_list = []\n",
    "\n",
    "    X1 = X[y == '是']\n",
    "    X0 = X[y == '否']\n",
    "\n",
    "    m1, _ = X1.shape\n",
    "    m0, _ = X0.shape\n",
    "\n",
    "    for i in range(n): # 遍历数据集每个特征列\n",
    "        xi = X.iloc[:, i]\n",
    "        p_xi = namedtuple(X.columns[i], ['is_continuous', 'conditional_pro'])  # 用于储存每个变量的情况\n",
    "        is_continuous = type_of_target(xi) == 'continuous'\n",
    "        xi1 = X1.iloc[:, i]\n",
    "        xi0 = X0.iloc[:, i]\n",
    "        if is_continuous:  # 连续值时，conditional_pro 储存的就是 [mean, var] 即均值和方差\n",
    "            xi1_mean = np.mean(xi1)\n",
    "            xi1_var = np.var(xi1)\n",
    "            xi0_mean = np.mean(xi0)\n",
    "            xi0_var = np.var(xi0)\n",
    "\n",
    "            p1_list.append(p_xi(is_continuous, [xi1_mean, xi1_var]))\n",
    "            p0_list.append(p_xi(is_continuous, [xi0_mean, xi0_var]))\n",
    "        else:  # 离散值时直接计算各类别的条件概率\n",
    "            unique_value = xi.unique()  # 取值情况\n",
    "            nvalue = len(unique_value)  # 取值个数\n",
    "\n",
    "            xi1_value_count = pd.value_counts(xi1).reindex(unique_value).fillna(0) + 1  # 计算正样本中，该属性每个取值的数量，并且加1，即拉普拉斯平滑\n",
    "            xi0_value_count = pd.value_counts(xi0).reindex(unique_value).fillna(0) + 1\n",
    "\n",
    "            p1_list.append(p_xi(is_continuous, xi1_value_count / (m1 + nvalue)))\n",
    "            p0_list.append(p_xi(is_continuous, xi0_value_count / (m0 + nvalue)))\n",
    "    print(p1_list)\n",
    "    return p1, p1_list, p0_list\n",
    "\n"
   ]
  },
  {
   "cell_type": "markdown",
   "metadata": {},
   "source": [
    "$$\n",
    "p\\left(x_{i} \\mid c\\right)=\\frac{1}{\\sqrt{2 \\pi} \\sigma_{c, i}} \\exp \\left(-\\frac{\\left(x_{i}-\\mu_{c, i}\\right)^{2}}{2 \\sigma_{c, i}^{2}}\\right)\n",
    "$$"
   ]
  },
  {
   "cell_type": "code",
   "execution_count": 72,
   "metadata": {},
   "outputs": [],
   "source": [
    "\n",
    "def predict_nb(x, p1, p1_list, p0_list):\n",
    "    '''\n",
    "    预测函数\n",
    "    输入：\n",
    "        x:一个样本\n",
    "    返回：\n",
    "        预测结果和概率\n",
    "    '''\n",
    "    n = len(x)\n",
    "\n",
    "    x_p1 = p1\n",
    "    x_p0 = 1 - p1\n",
    "    for i in range(n):\n",
    "        p1_xi = p1_list[i]\n",
    "        p0_xi = p0_list[i]\n",
    "\n",
    "        if p1_xi.is_continuous:\n",
    "            mean1, var1 = p1_xi.conditional_pro\n",
    "            mean0, var0 = p0_xi.conditional_pro\n",
    "            x_p1 += 1 / (np.sqrt(2 * np.pi) * var1) * np.exp(- (x[i] - mean1) ** 2 / (2 * var1 ** 2))\n",
    "            x_p0 += 1 / (np.sqrt(2 * np.pi) * var0) * np.exp(- (x[i] - mean0) ** 2 / (2 * var0 ** 2))\n",
    "        else:\n",
    "            x_p1 += p1_xi.conditional_pro[x[i]]\n",
    "            x_p0 += p0_xi.conditional_pro[x[i]]\n",
    "\n",
    "    if x_p1 > x_p0:\n",
    "        return \"是,概率为：\"+str(x_p1)\n",
    "    else:\n",
    "        return \"否，概率为：\"+str(x_p0)\n"
   ]
  },
  {
   "cell_type": "code",
   "execution_count": 73,
   "metadata": {},
   "outputs": [
    {
     "name": "stdout",
     "output_type": "stream",
     "text": [
      "[色泽(is_continuous=False, conditional_pro=青绿    0.363636\n",
      "乌黑    0.454545\n",
      "浅白    0.181818\n",
      "Name: 色泽, dtype: float64), 根蒂(is_continuous=False, conditional_pro=蜷缩    0.545455\n",
      "稍蜷    0.363636\n",
      "硬挺    0.090909\n",
      "Name: 根蒂, dtype: float64), 敲声(is_continuous=False, conditional_pro=浊响    0.636364\n",
      "沉闷    0.272727\n",
      "清脆    0.090909\n",
      "Name: 敲声, dtype: float64), 纹理(is_continuous=False, conditional_pro=清晰    0.727273\n",
      "稍糊    0.181818\n",
      "模糊    0.090909\n",
      "Name: 纹理, dtype: float64), 脐部(is_continuous=False, conditional_pro=凹陷    0.545455\n",
      "稍凹    0.363636\n",
      "平坦    0.090909\n",
      "Name: 脐部, dtype: float64), 触感(is_continuous=False, conditional_pro=硬滑    0.7\n",
      "软粘    0.3\n",
      "Name: 触感, dtype: float64), 密度(is_continuous=True, conditional_pro=[0.5737500000000001, 0.014608437499999998]), 含糖率(is_continuous=True, conditional_pro=[0.27875, 0.008912437500000002])]\n",
      "是,概率为：3.991866028708143\n"
     ]
    }
   ],
   "source": [
    "\n",
    "\n",
    "if __name__ == '__main__':\n",
    "    data_path = \"watermelon3_0_Ch.csv\"\n",
    "    data = pd.read_csv(data_path, index_col=0)\n",
    "\n",
    "    X = data.iloc[:, :-1]\n",
    "    y = data.iloc[:, -1]\n",
    "    p1, p1_list, p0_list = train_nb(X, y)\n",
    "\n",
    "    x_test = X.iloc[0, :] \n",
    "\n",
    "    print(predict_nb(x_test, p1, p1_list, p0_list))"
   ]
  }
 ],
 "metadata": {
  "interpreter": {
   "hash": "91bb753b057673435fb8d6f6a083e6c818364728098c7ae050ca3a25357dd754"
  },
  "kernelspec": {
   "display_name": "Python 3.8.10 ('base')",
   "language": "python",
   "name": "python3"
  },
  "language_info": {
   "codemirror_mode": {
    "name": "ipython",
    "version": 3
   },
   "file_extension": ".py",
   "mimetype": "text/x-python",
   "name": "python",
   "nbconvert_exporter": "python",
   "pygments_lexer": "ipython3",
   "version": "3.8.10"
  },
  "orig_nbformat": 4
 },
 "nbformat": 4,
 "nbformat_minor": 2
}
