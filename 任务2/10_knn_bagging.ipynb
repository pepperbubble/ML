{
 "cells": [
  {
   "cell_type": "code",
   "execution_count": 120,
   "metadata": {},
   "outputs": [],
   "source": [
    "import xlrd\n",
    "import numpy as np\n",
    "import matplotlib.pyplot as plt\n",
    "import operator\n",
    "import pandas as pd\n",
    "from sklearn.model_selection import train_test_split\n",
    "plt.rcParams[\"font.sans-serif\"]=[\"SimHei\"] #设置字体\n",
    "plt.rcParams[\"axes.unicode_minus\"]=False #该语句解决图像中的“-”负号的乱码问题\n",
    "\n",
    "class KNN():\n",
    "    def __init__(self, k):\n",
    "        self.k = k\n",
    "\n",
    "    def fit(self, X, y):\n",
    "        self.N = len(X)\n",
    "        self.d = len(X[0])\n",
    "        self.X = X\n",
    "        self.y = y\n",
    "\n",
    "    def predict(self, x):\n",
    "        neighbors, neighbors_labels = self.k_neighbors(x)\n",
    "        #print \"neightbors\", neighbors\n",
    "        votes = {}\n",
    "        for label in neighbors_labels:\n",
    "            if label not in votes:\n",
    "                votes[label] = 1\n",
    "            else:\n",
    "                votes[label] += 1\n",
    "        sorted_votes = sorted(votes.items(), key=operator.itemgetter(1), reverse=True)\n",
    "        return sorted_votes[0][0]\n",
    "\n",
    "    def predicts(self, X):\n",
    "        labels = []\n",
    "        for x in X:\n",
    "            label = self.predict(x)\n",
    "            labels.append(label)\n",
    "        return labels\n",
    "\n",
    "    def k_neighbors(self, x):\n",
    "        distances = []\n",
    "        for i in range(self.N):\n",
    "            dist = self.distance(x, self.X[i])\n",
    "            distances.append([self.X[i], self.y[i], dist])\n",
    "        distances.sort(key=operator.itemgetter(2))\n",
    "        neighbors = []\n",
    "        neighbors_labels = []\n",
    "        for k in range(self.k):\n",
    "            neighbors.append(distances[k][0])\n",
    "            neighbors_labels.append(distances[k][1])\n",
    "        return neighbors, neighbors_labels\n",
    "\n",
    "    def distance(self, x, y):\n",
    "        sum = 0\n",
    "        for i in range(self.d):\n",
    "            sum += (x[i]-y[i])**2\n",
    "        return sum\n",
    "\n",
    "def plot_desicion_boundary(X, y, knn):\n",
    "    x_min = np.array(X)[:, 0].min() - 0.1\n",
    "    x_max = np.array(X)[:, 0].max() + 0.1\n",
    "    y_min = np.array(X)[:, 1].min() - 0.1\n",
    "    y_max = np.array(X)[:, 1].max() + 0.1\n",
    "    xx, yy = np.meshgrid(np.arange(x_min, x_max, 0.01), np.arange(y_min, y_max, 0.01))\n",
    "    print(np.vstack([xx.ravel(), yy.ravel()]).T.tolist())\n",
    "    Z = knn.predicts(np.vstack([xx.ravel(), yy.ravel()]).T.tolist())\n",
    "    Z = np.array(Z).reshape(xx.shape)\n",
    "    print (Z)\n",
    "    f, axarr = plt.subplots(1, 1, figsize=(10, 8))\n",
    "    axarr.contourf(xx, yy, Z, alpha=0.4)\n",
    "    axarr.scatter(np.array(X)[:, 0], np.array(X)[:, 1], c=y, s=10, edgecolor='k')\n",
    "    axarr.set_title(\"KNN (k={})\".format(knn.k))\n",
    "    plt.savefig(\"k={}.png\".format(knn.k))\n",
    "    plt.show()\n"
   ]
  },
  {
   "cell_type": "code",
   "execution_count": 121,
   "metadata": {},
   "outputs": [],
   "source": [
    "class Bagging:\n",
    "    def __init__(self,base_learner=\"knn\",n_learners=10,K=5):\n",
    "        #self.learners=[base_learner for _ in range (n_learners)]\n",
    "        self.learners=[KNN(K) for _ in range (n_learners)]\n",
    "    \n",
    "    def fit(self,X,y):\n",
    "        for learner in self.learners:\n",
    "            examples=np.random.choice(np.array(len(X)),int(len(X)),replace=True)\n",
    "            learner.fit(X[examples,:],y[examples])\n",
    "\n",
    "    def predict(self,X):\n",
    "        preds=[learner.predicts(X) for learner in self.learners]\n",
    "        return np.array(preds).mean(axis=0)"
   ]
  },
  {
   "cell_type": "code",
   "execution_count": 122,
   "metadata": {},
   "outputs": [],
   "source": [
    "X=pd.read_csv(\"X.csv\",index_col=0)\n",
    "y=pd.read_csv(\"y.csv\",index_col=0)\n",
    "y=y[\"status\"]\n",
    "m,n=X.shape\n",
    "X_train, X_test, y_train, y_test = train_test_split(X, y,train_size=0.8,random_state=1)"
   ]
  },
  {
   "cell_type": "code",
   "execution_count": 123,
   "metadata": {},
   "outputs": [],
   "source": [
    "X_train=X_train.values\n",
    "y_train=y_train.values\n",
    "X_test=X_test.values\n",
    "y_test=y_test.values"
   ]
  },
  {
   "cell_type": "code",
   "execution_count": 124,
   "metadata": {},
   "outputs": [
    {
     "name": "stdout",
     "output_type": "stream",
     "text": [
      "Accurancy: 0.7619047619047619\n"
     ]
    }
   ],
   "source": [
    "\n",
    "knn = KNN(3)\n",
    "knn.fit(X_train, y_train)\n",
    "y_pred=knn.predicts(X_test)\n",
    "print(\"Accurancy:\",np.mean(y_pred==y_test))"
   ]
  },
  {
   "cell_type": "code",
   "execution_count": 125,
   "metadata": {},
   "outputs": [
    {
     "name": "stdout",
     "output_type": "stream",
     "text": [
      "[1. 1. 1. 0. 1. 1. 1. 1. 1. 0. 1. 1. 1. 1. 1. 1. 1. 1. 0. 1. 0. 1. 1. 1.\n",
      " 1. 1. 0. 1. 1. 1. 1. 1. 1. 1. 1. 1. 1. 1. 1. 1. 0. 1.]\n",
      "Accurancy: 0.7857142857142857\n"
     ]
    }
   ],
   "source": [
    "knn_bagging=Bagging('knn',25,3)\n",
    "knn_bagging.fit(X_train,y_train)\n",
    "preds=knn_bagging.predict(X_test)\n",
    "preds[preds>=0.5]=1\n",
    "preds[preds<0.5]=0\n",
    "print(preds)\n",
    "print(\"Accurancy:\",np.mean(preds==y_test))"
   ]
  }
 ],
 "metadata": {
  "interpreter": {
   "hash": "91bb753b057673435fb8d6f6a083e6c818364728098c7ae050ca3a25357dd754"
  },
  "kernelspec": {
   "display_name": "Python 3.8.10 ('base')",
   "language": "python",
   "name": "python3"
  },
  "language_info": {
   "codemirror_mode": {
    "name": "ipython",
    "version": 3
   },
   "file_extension": ".py",
   "mimetype": "text/x-python",
   "name": "python",
   "nbconvert_exporter": "python",
   "pygments_lexer": "ipython3",
   "version": "3.8.10"
  },
  "orig_nbformat": 4
 },
 "nbformat": 4,
 "nbformat_minor": 2
}
