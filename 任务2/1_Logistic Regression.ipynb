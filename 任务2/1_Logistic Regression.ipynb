{
 "cells": [
  {
   "cell_type": "code",
   "execution_count": 160,
   "metadata": {},
   "outputs": [],
   "source": [
    "import numpy as np\n",
    "import pandas as pd\n",
    "from sklearn.model_selection import train_test_split\n",
    "import matplotlib.pyplot as plt"
   ]
  },
  {
   "cell_type": "code",
   "execution_count": 161,
   "metadata": {},
   "outputs": [],
   "source": [
    "def sigmoid(z):\n",
    "    '''\n",
    "    Sigmoid函数\n",
    "    输入：数据x\n",
    "    返回：函数值y\n",
    "    '''\n",
    "    y =1.0 / ( 1 + np.exp(-z))\n",
    "    return y"
   ]
  },
  {
   "cell_type": "code",
   "execution_count": 162,
   "metadata": {},
   "outputs": [],
   "source": [
    "\n",
    "def costFunction(theta,X,y):\n",
    "    m,n=X.shape\n",
    "    J=(-y.T*np.log(sigmoid(X*theta.T))-(1-y).T*np.log(sigmoid(1-X*theta.T)))/m\n",
    "    J=J.tolist()\n",
    "    return J[0]"
   ]
  },
  {
   "cell_type": "code",
   "execution_count": 163,
   "metadata": {},
   "outputs": [],
   "source": [
    "    \n",
    "def gradDescent(X, y, theta, alpha, num_iters):\n",
    "    '''\n",
    "    梯度下降函数\n",
    "    Input:\n",
    "        X：样本数据\n",
    "        y:标签\n",
    "        theta:待求系数\n",
    "        alpha:搜索步长\n",
    "        num_iters:迭代次数\n",
    "    OutPut:\n",
    "        theta:系数,shape[1,3]\n",
    "        cost：每代Cost值\n",
    "    '''\n",
    "    m,n=X.shape\n",
    "    cost=[]\n",
    "    for i in range(num_iters):\n",
    "        h=sigmoid(X*theta.T)\n",
    "        theta = theta - alpha*(h-y).T*X/m\n",
    "        cost.append(costFunction(theta,X,y))\n",
    "    return theta,cost\n"
   ]
  },
  {
   "cell_type": "code",
   "execution_count": 164,
   "metadata": {},
   "outputs": [],
   "source": [
    "def predict(X,theta):\n",
    "    h=np.zeros(len(X))\n",
    "    h=sigmoid(X*theta.T)\n",
    "    h[h>=0.5]=int(1)\n",
    "    h[h<0.5]=int(0)\n",
    "    h=pd.DataFrame(h)\n",
    "    return h"
   ]
  },
  {
   "cell_type": "code",
   "execution_count": 165,
   "metadata": {},
   "outputs": [
    {
     "name": "stdout",
     "output_type": "stream",
     "text": [
      "Accurancy: 0.7380952380952381\n"
     ]
    }
   ],
   "source": [
    "X=pd.read_csv(\"X.csv\",index_col=0)\n",
    "y=pd.read_csv(\"y.csv\",index_col=0)\n",
    "m,n=X.shape\n",
    "X=np.append(np.ones((m,1)),X,axis=1)\n",
    "X_train, X_test, y_train, y_test = train_test_split(X, y,train_size=0.8,random_state=1)\n",
    "\n",
    "alpha=0.01\n",
    "num_iters=1000\n",
    "theta=[0.1]*15\n",
    "X_train=np.mat(X_train)\n",
    "y_train=np.mat(y_train)\n",
    "theta=np.mat(theta)\n",
    "cost=[]\n",
    "theta,cost=gradDescent(X_train,y_train,theta,alpha,num_iters)\n",
    "y_pre=predict(X_test,theta)\n",
    "sum=0\n",
    "for i in range(len(y_pre)):\n",
    "    if y_pre.iloc[i][0]==y_test.iloc[i][0]:\n",
    "        sum+=1\n",
    "print(\"Accurancy:\",sum/len(y_pre))"
   ]
  }
 ],
 "metadata": {
  "interpreter": {
   "hash": "91bb753b057673435fb8d6f6a083e6c818364728098c7ae050ca3a25357dd754"
  },
  "kernelspec": {
   "display_name": "Python 3.8.10 ('base')",
   "language": "python",
   "name": "python3"
  },
  "language_info": {
   "codemirror_mode": {
    "name": "ipython",
    "version": 3
   },
   "file_extension": ".py",
   "mimetype": "text/x-python",
   "name": "python",
   "nbconvert_exporter": "python",
   "pygments_lexer": "ipython3",
   "version": "3.8.10"
  },
  "orig_nbformat": 4
 },
 "nbformat": 4,
 "nbformat_minor": 2
}
